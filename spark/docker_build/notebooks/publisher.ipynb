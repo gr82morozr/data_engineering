{
 "cells": [
  {
   "cell_type": "code",
   "execution_count": 1,
   "id": "38b5ce04-9bc2-45cb-b914-fb78989747ef",
   "metadata": {},
   "outputs": [],
   "source": [
    "from confluent_kafka import Producer"
   ]
  },
  {
   "cell_type": "code",
   "execution_count": 2,
   "id": "15616499-a2ff-463d-9a4b-dd6b6d48263e",
   "metadata": {},
   "outputs": [],
   "source": [
    "# Kafka broker address\n",
    "bootstrap_servers = 'kafka:9092'\n",
    "\n",
    "# Create a Kafka producer configuration\n",
    "producer_config = {\n",
    "    'bootstrap.servers': bootstrap_servers,\n",
    "}\n",
    "\n",
    "# Create a Kafka producer instance\n",
    "producer = Producer(producer_config)\n",
    "\n",
    "# Kafka topic to publish messages to\n",
    "topic = 'test-topic'\n"
   ]
  },
  {
   "cell_type": "code",
   "execution_count": 3,
   "id": "6efa2500-6407-45de-a18c-52c59309dce8",
   "metadata": {},
   "outputs": [
    {
     "name": "stdout",
     "output_type": "stream",
     "text": [
      "Message delivered to test-topic [0]\n"
     ]
    },
    {
     "data": {
      "text/plain": [
       "0"
      ]
     },
     "execution_count": 3,
     "metadata": {},
     "output_type": "execute_result"
    }
   ],
   "source": [
    "# Define a callback function to handle delivery reports\n",
    "def delivery_report(err, msg):\n",
    "    if err is not None:\n",
    "        print(f'Message delivery failed: {err}')\n",
    "    else:\n",
    "        print(f'Message delivered to {msg.topic()} [{msg.partition()}]')\n",
    "\n",
    "# Publish a message to the Kafka topic\n",
    "message_key = 'key1'\n",
    "message_value = 'Hello, Kafka!'\n",
    "producer.produce(topic, key=message_key, value=message_value, callback=delivery_report)\n",
    "\n",
    "# Wait for any outstanding messages to be delivered and delivery reports to be received\n",
    "producer.flush()"
   ]
  },
  {
   "cell_type": "code",
   "execution_count": null,
   "id": "622d534c-9b7e-4179-9489-532f236e8a45",
   "metadata": {},
   "outputs": [],
   "source": []
  }
 ],
 "metadata": {
  "kernelspec": {
   "display_name": "Python 3 (ipykernel)",
   "language": "python",
   "name": "python3"
  },
  "language_info": {
   "codemirror_mode": {
    "name": "ipython",
    "version": 3
   },
   "file_extension": ".py",
   "mimetype": "text/x-python",
   "name": "python",
   "nbconvert_exporter": "python",
   "pygments_lexer": "ipython3",
   "version": "3.11.5"
  }
 },
 "nbformat": 4,
 "nbformat_minor": 5
}
