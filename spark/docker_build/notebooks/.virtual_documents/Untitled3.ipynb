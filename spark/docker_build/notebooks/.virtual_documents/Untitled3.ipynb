from pyspark.sql import SparkSession
from pyspark.sql.functions import col, from_json
from pyspark.sql.types import StructType, StructField, IntegerType


spark = SparkSession.builder \
    .appName("KafkaIntegration") \
    .config("spark.jars.packages", "org.apache.spark:spark-sql-kafka-0-10_2.13:3.5.0") \
    .getOrCreate()


schema = StructType([
    StructField("data", IntegerType())
])


kafkaStream = spark.readStream \
    .format("kafka") \
    .option("kafka.bootstrap.servers", "kafka:9092") \
    .option("subscribe", "test-topic") \
    .load()


valueStream = kafkaStream.selectExpr("CAST(value AS STRING)")


jsonStream = valueStream.select(from_json(col("value"), schema).alias("data"))


dataStream = jsonStream.select("data.*")


# Write the stream to console
query = dataStream.writeStream \
    .outputMode("append") \
    .format("console") \
    .start()



query.awaitTermination()



