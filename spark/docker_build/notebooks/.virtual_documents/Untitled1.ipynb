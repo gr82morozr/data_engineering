from pyspark.sql import SparkSession

spark = SparkSession.builder \
    .appName("KafkaIntegration") \
    .config("spark.jars", "/opt/spark/jars/spark-kafka-connector.jar") \
    .getOrCreate()


from pyspark.sql import SparkSession

spark = SparkSession.builder \
    .appName("KafkaIntegration") \
    .config("spark.jars.packages", "org.apache.spark:spark-sql-kafka-0-10_2.13:3.5.0") \
    .getOrCreate()



