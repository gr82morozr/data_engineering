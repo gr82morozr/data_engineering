from pyspark.sql import SparkSession

spark = SparkSession.builder \
    .appName("KafkaIntegration") \
    .config("spark.jars", "/opt/spark/jars/spark-kafka-connector.jar") \
    .getOrCreate()


spark = SparkSession.builder \
    .appName("KafkaMessageConsumer") \
    .getOrCreate()

kafka_topic = "test-topic"
kafka_bootstrap_servers = "kafka:9092"  # Change this to your Kafka server address



# Read from Kafka
df = spark \
    .readStream \
    .format("kafka") \
    .option("kafka.bootstrap.servers", kafka_bootstrap_servers) \
    .option("subscribe", kafka_topic) \
    .load()





