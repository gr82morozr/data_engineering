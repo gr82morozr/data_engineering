from pyspark.sql import SparkSession
from pyspark.sql.functions import col, from_json
from pyspark.sql.types import StringType, StructType


spark = SparkSession.builder \
    .appName("KafkaIntegration") \
    .config("spark.jars.packages", "org.apache.spark:spark-sql-kafka-0-10_2.13:3.5.0") \
    .getOrCreate()
    #.config("spark.jars.packages", "org.apache.spark:spark-sql-kafka-0-10_2.13:3.5.0") \
    #.getOrCreate()







kafka_topic = "test-topic"
kafka_bootstrap_servers = "kafka:9092"  
message_schema = StructType().add("message", StringType())


df = spark \
    .readStream \
    .format("kafka") \
    .option("kafka.bootstrap.servers", kafka_bootstrap_servers) \
    .option("subscribe", kafka_topic) \
    .load()


df = df.selectExpr("CAST(value AS STRING)")



query = df.writeStream \
    .outputMode("append") \
    .format("console") \
    .start()






